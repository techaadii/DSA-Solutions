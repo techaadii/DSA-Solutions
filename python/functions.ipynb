{
 "cells": [
  {
   "cell_type": "markdown",
   "metadata": {},
   "source": [
    "## Functions\n",
    "- Here in this part we will solve some basic questions on functions"
   ]
  },
  {
   "cell_type": "markdown",
   "metadata": {},
   "source": [
    "Question-1\n",
    "- Write a code to find the area of the Rectangle "
   ]
  },
  {
   "cell_type": "code",
   "execution_count": 2,
   "metadata": {},
   "outputs": [],
   "source": [
    "def area_rectangle(length,breadth):\n",
    "    area=length*breadth\n",
    "    return area\n",
    "\n",
    "    # you could have also written this as return (length*breadth)\n",
    "    \n"
   ]
  },
  {
   "cell_type": "code",
   "execution_count": 3,
   "metadata": {},
   "outputs": [
    {
     "data": {
      "text/plain": [
       "15"
      ]
     },
     "execution_count": 3,
     "metadata": {},
     "output_type": "execute_result"
    }
   ],
   "source": [
    "area_rectangle(3,5)"
   ]
  },
  {
   "cell_type": "markdown",
   "metadata": {},
   "source": [
    "Question-2\n",
    "- Write the code to find the total distance travelled by the vehicle given its speed and time "
   ]
  },
  {
   "cell_type": "code",
   "execution_count": 4,
   "metadata": {},
   "outputs": [],
   "source": [
    "def distance_travelled(speed,time):\n",
    "    return speed*time"
   ]
  },
  {
   "cell_type": "markdown",
   "metadata": {},
   "source": []
  },
  {
   "cell_type": "markdown",
   "metadata": {},
   "source": [
    "find the distance travelled by the vehicle in 10 seconds with speed 5m/s\n"
   ]
  },
  {
   "cell_type": "code",
   "execution_count": 5,
   "metadata": {},
   "outputs": [
    {
     "data": {
      "text/plain": [
       "50"
      ]
     },
     "execution_count": 5,
     "metadata": {},
     "output_type": "execute_result"
    }
   ],
   "source": [
    "distance_travelled(5,10)"
   ]
  },
  {
   "cell_type": "markdown",
   "metadata": {},
   "source": [
    "Question-3\n",
    "- Write the function to calculate the value of y given the value of x given intercept and slope using the formula of equation of line"
   ]
  },
  {
   "cell_type": "code",
   "execution_count": 6,
   "metadata": {},
   "outputs": [
    {
     "data": {
      "text/plain": [
       "31"
      ]
     },
     "execution_count": 6,
     "metadata": {},
     "output_type": "execute_result"
    }
   ],
   "source": [
    "def value_of_y(slope,intercept,x):\n",
    "    return slope*x+intercept\n",
    "# find the value of y at the point x=1 having slope 10 and intercept 3\n",
    "value_of_y(10,1,3)"
   ]
  },
  {
   "cell_type": "markdown",
   "metadata": {},
   "source": [
    "Question-4\n",
    "- Write the function to calculate the number of rounds the lift has to make given the number of people who want to go up and the maximum capacity of the lift\n"
   ]
  },
  {
   "cell_type": "code",
   "execution_count": 8,
   "metadata": {},
   "outputs": [
    {
     "data": {
      "text/plain": [
       "4"
      ]
     },
     "execution_count": 8,
     "metadata": {},
     "output_type": "execute_result"
    }
   ],
   "source": [
    "def num_rounds(n,capacity):\n",
    "    # Here n represents the number of people who want to go up and the capacity represents the the oen time capacity of th lift.\n",
    "    return (n//capacity if n%capacity==0 else n//capacity+1)\n",
    "\n",
    "# Suppose there are 10 people who want to go up and the maximum capacity of the lift is 3\n",
    "num_rounds(10,3)"
   ]
  },
  {
   "cell_type": "code",
   "execution_count": 10,
   "metadata": {},
   "outputs": [
    {
     "data": {
      "text/plain": [
       "4"
      ]
     },
     "execution_count": 10,
     "metadata": {},
     "output_type": "execute_result"
    }
   ],
   "source": [
    "# Lets understand a better way of writing the function \n",
    "def num_rounds(n:int,capacity:int)->int:\n",
    "    return (n//capacity if n%capacity==0 else n//capacity+1)\n",
    "num_rounds(10,3)"
   ]
  },
  {
   "cell_type": "markdown",
   "metadata": {},
   "source": [
    "- Well the above style is a good way to write the function that gives you an idea about the datatype of the parameters and the datatype the function is going to return.\n"
   ]
  },
  {
   "cell_type": "markdown",
   "metadata": {},
   "source": [
    "Question-5\n",
    "- Write a function to find the sum of first n natural numbers."
   ]
  },
  {
   "cell_type": "code",
   "execution_count": 16,
   "metadata": {},
   "outputs": [
    {
     "data": {
      "text/plain": [
       "'The sum of first 5 natural number is 15'"
      ]
     },
     "execution_count": 16,
     "metadata": {},
     "output_type": "execute_result"
    }
   ],
   "source": [
    "def sum(n:int)->int:\n",
    "    # Here n is the first n natural numbers that we are considering.\n",
    "    sum0=0\n",
    "    for i in range(1,n+1,1):\n",
    "        sum0=sum0+i\n",
    "\n",
    "    return (f\"The sum of first {n} natural number is {sum0}\")\n",
    "\n",
    "sum(5)\n"
   ]
  },
  {
   "cell_type": "markdown",
   "metadata": {},
   "source": [
    "Question-6\n",
    "- Write a function to find the prime number between 1 and 100"
   ]
  },
  {
   "cell_type": "code",
   "execution_count": null,
   "metadata": {},
   "outputs": [],
   "source": []
  }
 ],
 "metadata": {
  "kernelspec": {
   "display_name": "Python 3",
   "language": "python",
   "name": "python3"
  },
  "language_info": {
   "codemirror_mode": {
    "name": "ipython",
    "version": 3
   },
   "file_extension": ".py",
   "mimetype": "text/x-python",
   "name": "python",
   "nbconvert_exporter": "python",
   "pygments_lexer": "ipython3",
   "version": "3.11.9"
  }
 },
 "nbformat": 4,
 "nbformat_minor": 2
}
